{
  "nbformat": 4,
  "nbformat_minor": 0,
  "metadata": {
    "colab": {
      "provenance": []
    },
    "kernelspec": {
      "name": "python3",
      "display_name": "Python 3"
    },
    "language_info": {
      "name": "python"
    }
  },
  "cells": [
    {
      "cell_type": "code",
      "execution_count": null,
      "metadata": {
        "id": "xjuqgqYaFWW2"
      },
      "outputs": [],
      "source": [
        "import numpy as np\n",
        "import tensorflow as tf\n",
        "from tensorflow.keras.models import Sequential\n",
        "from tensorflow.keras.layers import Dense\n",
        "import matplotlib.pyplot as plt\n",
        "import requests\n",
        "import pandas as pd\n",
        "import re"
      ]
    },
    {
      "cell_type": "markdown",
      "source": [
        "import url\n"
      ],
      "metadata": {
        "id": "uoIRNnrLKTcb"
      }
    },
    {
      "cell_type": "code",
      "source": [
        "\n",
        "url = \"https://newsapi.org/v2/everything?q=tesla&from=2025-03-15&sortBy=publishedAt&apiKey=3b1dd03b6308473cbec1edab9ac53180\"\n",
        "response = requests.get(url)\n",
        "\n",
        "# Get the JSON data from the response\n",
        "data = response.json()\n",
        "\n",
        "# Now you can use 'get' on the JSON data\n",
        "articles = data.get(\"articles\", [])\n",
        "data = []\n",
        "for article in articles:\n",
        "    data.append({\n",
        "        \"title\": article[\"title\"],\n",
        "        \"description\": article[\"description\"]\n",
        "    })\n",
        "\n",
        "df = pd.DataFrame(data)\n",
        "\n",
        "csv = df.to_csv('data.csv', index=False)"
      ],
      "metadata": {
        "id": "G0sKgnLtFaEP"
      },
      "execution_count": null,
      "outputs": []
    },
    {
      "cell_type": "markdown",
      "source": [
        "clean text data\n"
      ],
      "metadata": {
        "id": "ZH2axa66KZyj"
      }
    },
    {
      "cell_type": "code",
      "source": [
        "def clean(text):\n",
        "     text = re.sub(r\"http\\S+\", \"\", str(text))\n",
        "     text = re.sub(r\"[^a-zA-Z\\s\\u4e00-\\u9fff]\", \"\", str(text))\n",
        "     return text.lower()\n",
        "\n",
        "df[\"clean_title\"] = df[\"title\"].apply(clean)\n"
      ],
      "metadata": {
        "id": "zVrqsYLOKdhC"
      },
      "execution_count": null,
      "outputs": []
    },
    {
      "cell_type": "markdown",
      "source": [
        "Text Blob"
      ],
      "metadata": {
        "id": "RoMmAS3GQLwY"
      }
    },
    {
      "cell_type": "code",
      "source": [
        "from textblob import TextBlob\n",
        "\n",
        "def get_sentiment(text):\n",
        "    return TextBlob(text).sentiment.polarity\n",
        "\n",
        "df[\"sentiment\"] = df[\"clean_title\"].apply(get_sentiment)"
      ],
      "metadata": {
        "id": "fqyvO0XiQJTx"
      },
      "execution_count": null,
      "outputs": []
    },
    {
      "cell_type": "markdown",
      "source": [
        "**add pipeline**"
      ],
      "metadata": {
        "id": "kTG7U_DTQG75"
      }
    },
    {
      "cell_type": "code",
      "source": [
        "from transformers import pipeline\n",
        "\n",
        "sentiment_model = pipeline(\"sentiment-analysis\")\n",
        "\n",
        "df[\"sentiment\"] = df[\"clean_title\"].apply(lambda x: sentiment_model(x)[0] if isinstance(x, str) and x.strip() != '' else {\"label\": \"NEUTRAL\", \"score\": 0})\n",
        "df[\"label\"] = df[\"sentiment\"].apply(lambda x: x['label'])\n",
        "df[\"score\"] = df[\"sentiment\"].apply(lambda x: x['score'])\n",
        "\n",
        "print(df.head(10))"
      ],
      "metadata": {
        "colab": {
          "base_uri": "https://localhost:8080/"
        },
        "id": "qcTAlRxUQsK_",
        "outputId": "c8bd3f7c-50d7-46e0-b564-fc4f2af74ac8"
      },
      "execution_count": null,
      "outputs": [
        {
          "output_type": "stream",
          "name": "stderr",
          "text": [
            "No model was supplied, defaulted to distilbert/distilbert-base-uncased-finetuned-sst-2-english and revision 714eb0f (https://huggingface.co/distilbert/distilbert-base-uncased-finetuned-sst-2-english).\n",
            "Using a pipeline without specifying a model name and revision in production is not recommended.\n",
            "Device set to use cpu\n"
          ]
        },
        {
          "output_type": "stream",
          "name": "stdout",
          "text": [
            "                                               title  \\\n",
            "0              Tesla Stock Plummets 50%: More To Go?   \n",
            "1  La grande mise à jour Tesla de printemps arriv...   \n",
            "2  Редкоземельные металлы Китая: ограничения пост...   \n",
            "3  Le Tesla Cybertruck devient plus abordable, ce...   \n",
            "4  US-China Trade War: Beijing Halts Rare Earth E...   \n",
            "5                Sverige satsar på elmopeder i Ghana   \n",
            "6  Warren Buffett Bought This Electric Vehicle (E...   \n",
            "7  El bromance ya advertía grietas; Casa Blanca a...   \n",
            "8  Elon Musk Could Be Democrats' Secret Weapon in...   \n",
            "9  Tesla Stock Rises. Earnings Expectations Are ‘...   \n",
            "\n",
            "                                         description  \\\n",
            "0  Tesla stock appears relatively expensive, maki...   \n",
            "1  Tesla profite de sa \"Sping Release\" pour propo...   \n",
            "2  Китай, контролирующий значительную долю рынка ...   \n",
            "3  La version d’entrée de gamme du pick-up de Tes...   \n",
            "4  China halts rare earth exports in tariff war r...   \n",
            "5  För att kompensera våra klimatutsläpp \\n\\n\\n\\n...   \n",
            "6                                               None   \n",
            "7  israel gonzález\\r\\nAún no pasaba ni siquiera u...   \n",
            "8  Voice is AI-generated. Inconsistencies may occ...   \n",
            "9                                                      \n",
            "\n",
            "                                         clean_title  \\\n",
            "0                   tesla stock plummets  more to go   \n",
            "1  la grande mise  jour tesla de printemps arrive...   \n",
            "2                                                      \n",
            "3  le tesla cybertruck devient plus abordable cel...   \n",
            "4  uschina trade war beijing halts rare earth exp...   \n",
            "5                 sverige satsar p elmopeder i ghana   \n",
            "6  warren buffett bought this electric vehicle ev...   \n",
            "7  el bromance ya adverta grietas casa blanca apa...   \n",
            "8  elon musk could be democrats secret weapon in ...   \n",
            "9  tesla stock rises earnings expectations are lo...   \n",
            "\n",
            "                                           sentiment     label     score  \n",
            "0  {'label': 'NEGATIVE', 'score': 0.9997028708457...  NEGATIVE  0.999703  \n",
            "1  {'label': 'NEGATIVE', 'score': 0.9457418322563...  NEGATIVE  0.945742  \n",
            "2                   {'label': 'NEUTRAL', 'score': 0}   NEUTRAL  0.000000  \n",
            "3  {'label': 'NEGATIVE', 'score': 0.9845120906829...  NEGATIVE  0.984512  \n",
            "4  {'label': 'NEGATIVE', 'score': 0.9992642998695...  NEGATIVE  0.999264  \n",
            "5  {'label': 'POSITIVE', 'score': 0.9810891151428...  POSITIVE  0.981089  \n",
            "6  {'label': 'NEGATIVE', 'score': 0.9789633750915...  NEGATIVE  0.978963  \n",
            "7  {'label': 'NEGATIVE', 'score': 0.9186385869979...  NEGATIVE  0.918639  \n",
            "8  {'label': 'NEGATIVE', 'score': 0.9742220640182...  NEGATIVE  0.974222  \n",
            "9  {'label': 'POSITIVE', 'score': 0.9739510416984...  POSITIVE  0.973951  \n"
          ]
        }
      ]
    }
  ]
}